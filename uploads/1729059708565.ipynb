{
 "cells": [
  {
   "cell_type": "markdown",
   "id": "72569a90-26ee-4be6-87bf-92297da4db4c",
   "metadata": {},
   "source": [
    "### RMB.py"
   ]
  },
  {
   "cell_type": "code",
   "execution_count": 1,
   "id": "69b9128d-7cb3-48f6-88ca-6e53b68a5f93",
   "metadata": {},
   "outputs": [],
   "source": [
    "dict_gn=dict(\n",
    "    Arad=dict(Zerind=75,Timisoara=118,Sibiu=140),\n",
    "    Zerind=dict(Oradea=71,Arad=75),\n",
    "    Sibiu=dict(Rimnicu=80,Fagaras=99,Arad=140,Oradea=151),\n",
    "    Timisoara=dict(Lugoj=111,Arad=118),\n",
    "    Oradea=dict(Zerind=71,Sibiu=151),\n",
    "    Lugoj=dict(Mehadia=70,Timisoara=111),\n",
    "    Fagaras=dict(Sibiu=99,Bucharest=211),\n",
    "    Rimnicu=dict(Sibiu=80,Pitesti=97,Craiova=146),\n",
    "    Bucharest=dict(Urziceni=85,Giurgiu=90,Pitesti=101,Fagaras=211),\n",
    "    Craiova=dict(Dobreta=120,Pitesti=138,Rimnicu=146),\n",
    "    Dobreta=dict(Mehadia=75,Craiova=120),\n",
    "    Eforie=dict(Hirsova=86),\n",
    "    Hirsova=dict(Eforie=86,Urziceni=98),\n",
    "    Iasi=dict(Neamt=87,Valsui=92),\n",
    "    Pitesti=dict(Rimnicu=97,Bucharest=101,Craiova=138),\n",
    "    Urziceni=dict(Bucharest=85,Hirsova=98,Valsui=142),\n",
    "    Giurgui=dict(Bucharest=90),\n",
    "    Mehadia=dict(Dobreta=75),\n",
    "    Valsui=dict(Iasi=92,Urziceni=142),\n",
    "    Neamt=dict(Iasi=87)\n",
    "    )\n",
    "\n",
    "dict_hn={'Arad':336,'Bucharest':0,'Craiova':160,'Dobreta':242,'Eforie':161,\n",
    "         'Fagaras':176,'Giurgui':77,'Hirsova':151,'Iasi':226,'Lugoj':244,\n",
    "         'Mehadia':241,'Neamt':234,'Oradea':380,'Pitesti':100,'Rimnicu':193,\n",
    "         'Sibiu':253,'Timisoara':329,'Urziceni':80,'Valsui':199,'Zerind':374}\n"
   ]
  },
  {
   "cell_type": "markdown",
   "id": "21816d7d-754a-418d-b82c-230d68182238",
   "metadata": {},
   "source": [
    "### Practical 01\n",
    "\n",
    "### A) Implement BFS algorithm"
   ]
  },
  {
   "cell_type": "code",
   "execution_count": 3,
   "id": "5bd8e676-34bd-4893-ab72-252a85593bdd",
   "metadata": {},
   "outputs": [
    {
     "name": "stdout",
     "output_type": "stream",
     "text": [
      "BFS Traversal From Arad to Bucharest is:\n",
      "  Arad Zerind Timisoara Sibiu Oradea Lugoj Rimnicu Fagaras Mehadia Pitesti Craiova Bucharest\n"
     ]
    }
   ],
   "source": [
    "import queue as Q\n",
    "start=\"Arad\"\n",
    "goal=\"Bucharest\"\n",
    "result=' '\n",
    "def BFS(city,cityq,visitedq):\n",
    "    global result\n",
    "    if city==start:\n",
    "        result = result + \" \" + city\n",
    "    for eachcity in dict_gn[city].keys():\n",
    "        if eachcity==goal:\n",
    "            result = result + \" \" +eachcity\n",
    "            return\n",
    "        if eachcity not in cityq.queue and eachcity not in visitedq.queue:\n",
    "            cityq.put(eachcity)\n",
    "            result = result + \" \" + eachcity\n",
    "    visitedq.put(city)\n",
    "    BFS(cityq.get(),cityq,visitedq)\n",
    "def main():\n",
    "    cityq = Q.Queue()\n",
    "    visitedq = Q.Queue()\n",
    "    BFS(start,cityq,visitedq)\n",
    "    print(\"BFS Traversal From\", start, \"to\",goal,\"is:\")\n",
    "    print(result)\n",
    "main()    "
   ]
  },
  {
   "cell_type": "markdown",
   "id": "cc5af484-fa82-47aa-9398-dd7d794ae245",
   "metadata": {},
   "source": [
    "### Practical 01\n",
    "\n",
    "### B) Implementing Iterative Depth First algorithm."
   ]
  },
  {
   "cell_type": "code",
   "execution_count": 5,
   "id": "5779b116-4da3-49af-bb90-1c431456c860",
   "metadata": {},
   "outputs": [
    {
     "name": "stdout",
     "output_type": "stream",
     "text": [
      "Searching at Limit: 0\n",
      "Not Found!\n",
      "Arad \n",
      "______\n",
      "Searching at Limit: 1\n",
      "Not Found!\n",
      "Arad Zerind Timisoara Sibiu \n",
      "______\n",
      "Searching at Limit: 2\n",
      "Not Found!\n",
      "Arad Zerind Oradea Timisoara Lugoj Sibiu Rimnicu Fagaras \n",
      "______\n",
      "Searching at Limit: 3\n",
      "Not Found!\n",
      "Arad Zerind Oradea Sibiu Timisoara Lugoj Mehadia \n",
      "______\n",
      "Searching at Limit: 4\n",
      "Not Found!\n",
      "Arad Zerind Oradea Sibiu Rimnicu Fagaras Timisoara Lugoj Mehadia Dobreta \n",
      "______\n",
      "Searching at Limit: 5\n",
      "Found\n",
      "IDDFS Traversal from  Arad  to  Bucharest is:\n",
      "Arad Zerind Oradea Sibiu Rimnicu Pitesti Craiova Fagaras Bucharest \n"
     ]
    }
   ],
   "source": [
    "import queue as Q\n",
    "start = \"Arad\"\n",
    "goal = \"Bucharest\"\n",
    "result = \"\"\n",
    "\n",
    "def DLS(city,visitedstack,startlimit,endlimit):\n",
    "    global result\n",
    "    found = 0\n",
    "    result = result + city + \" \"\n",
    "    visitedstack.append(city)\n",
    "    if city == goal:\n",
    "        return 1\n",
    "    if startlimit == endlimit:\n",
    "        return 0\n",
    "    for eachcity in dict_gn[city].keys():\n",
    "        if eachcity not in visitedstack:\n",
    "            found = DLS(eachcity,visitedstack,startlimit+1,endlimit)\n",
    "        if found:\n",
    "            return found\n",
    "def IDDFS(city,visitedstack,endlimit):\n",
    "    global result\n",
    "    for i in range(0,endlimit):\n",
    "        print(\"Searching at Limit:\",i)\n",
    "        found = DLS(city,visitedstack,0,i)\n",
    "        if found:\n",
    "            print(\"Found\")\n",
    "            break\n",
    "        else:\n",
    "            print(\"Not Found!\")\n",
    "            print (result)\n",
    "            print(\"______\")\n",
    "            result=\"\"\n",
    "            visitedstack = []\n",
    "def main():\n",
    "    visitedstack = []\n",
    "    IDDFS(start,visitedstack,9)\n",
    "    print(\"IDDFS Traversal from \",start,\" to \",goal,\"is:\")        \n",
    "    print(result)\n",
    "main()        \n"
   ]
  },
  {
   "cell_type": "code",
   "execution_count": null,
   "id": "89c4d845-5cf5-4ae3-b5f4-0321606bea65",
   "metadata": {},
   "outputs": [],
   "source": []
  }
 ],
 "metadata": {
  "kernelspec": {
   "display_name": "Python 3 (ipykernel)",
   "language": "python",
   "name": "python3"
  },
  "language_info": {
   "codemirror_mode": {
    "name": "ipython",
    "version": 3
   },
   "file_extension": ".py",
   "mimetype": "text/x-python",
   "name": "python",
   "nbconvert_exporter": "python",
   "pygments_lexer": "ipython3",
   "version": "3.10.12"
  }
 },
 "nbformat": 4,
 "nbformat_minor": 5
}
